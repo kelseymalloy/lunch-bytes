{
 "cells": [
  {
   "cell_type": "code",
   "execution_count": 14,
   "metadata": {},
   "outputs": [],
   "source": [
    "import xarray as xr\n",
    "import numpy as np\n",
    "import netCDF4 as nc"
   ]
  },
  {
   "cell_type": "code",
   "execution_count": 25,
   "metadata": {},
   "outputs": [
    {
     "name": "stdout",
     "output_type": "stream",
     "text": [
      "https://www.esrl.noaa.gov/psd/thredds/dodsC/Datasets/cpc_global_temp/tmax.1979.nc\n",
      "https://www.esrl.noaa.gov/psd/thredds/dodsC/Datasets/cpc_global_temp/tmax.1980.nc\n",
      "https://www.esrl.noaa.gov/psd/thredds/dodsC/Datasets/cpc_global_temp/tmax.1981.nc\n",
      "https://www.esrl.noaa.gov/psd/thredds/dodsC/Datasets/cpc_global_temp/tmax.1982.nc\n",
      "https://www.esrl.noaa.gov/psd/thredds/dodsC/Datasets/cpc_global_temp/tmax.1983.nc\n",
      "https://www.esrl.noaa.gov/psd/thredds/dodsC/Datasets/cpc_global_temp/tmax.1984.nc\n",
      "https://www.esrl.noaa.gov/psd/thredds/dodsC/Datasets/cpc_global_temp/tmax.1985.nc\n",
      "https://www.esrl.noaa.gov/psd/thredds/dodsC/Datasets/cpc_global_temp/tmax.1986.nc\n",
      "https://www.esrl.noaa.gov/psd/thredds/dodsC/Datasets/cpc_global_temp/tmax.1987.nc\n",
      "https://www.esrl.noaa.gov/psd/thredds/dodsC/Datasets/cpc_global_temp/tmax.1988.nc\n",
      "https://www.esrl.noaa.gov/psd/thredds/dodsC/Datasets/cpc_global_temp/tmax.1989.nc\n",
      "https://www.esrl.noaa.gov/psd/thredds/dodsC/Datasets/cpc_global_temp/tmax.1990.nc\n",
      "https://www.esrl.noaa.gov/psd/thredds/dodsC/Datasets/cpc_global_temp/tmax.1991.nc\n",
      "https://www.esrl.noaa.gov/psd/thredds/dodsC/Datasets/cpc_global_temp/tmax.1992.nc\n",
      "https://www.esrl.noaa.gov/psd/thredds/dodsC/Datasets/cpc_global_temp/tmax.1993.nc\n",
      "https://www.esrl.noaa.gov/psd/thredds/dodsC/Datasets/cpc_global_temp/tmax.1994.nc\n",
      "https://www.esrl.noaa.gov/psd/thredds/dodsC/Datasets/cpc_global_temp/tmax.1995.nc\n",
      "https://www.esrl.noaa.gov/psd/thredds/dodsC/Datasets/cpc_global_temp/tmax.1996.nc\n",
      "https://www.esrl.noaa.gov/psd/thredds/dodsC/Datasets/cpc_global_temp/tmax.1997.nc\n",
      "https://www.esrl.noaa.gov/psd/thredds/dodsC/Datasets/cpc_global_temp/tmax.1998.nc\n"
     ]
    }
   ],
   "source": [
    "# borrowed from Kayla Besong's GettingData_XR notebook from previous lunch byte\n",
    "max_temps = []\n",
    "date_range = np.arange(1979,1998+1,1) \n",
    "\n",
    "for i in date_range:\n",
    "    url_t1 = 'https://www.esrl.noaa.gov/psd/thredds/dodsC/Datasets/cpc_global_temp/tmax.'+str(i)+'.nc' \n",
    "    #url_t2 = 'https://www.esrl.noaa.gov/psd/thredds/dodsC/Datasets/cpc_global_temp/tmin.'+str(i)+'.nc'\n",
    "    print(url_t1)\n",
    "    t1 = xr.open_dataset(url_t1)\n",
    "    #t2 = xr.open_dataset(url_t2)\n",
    "    max_temps.append(t1)\n",
    "    #min_temps.append(t2)"
   ]
  },
  {
   "cell_type": "code",
   "execution_count": 26,
   "metadata": {},
   "outputs": [],
   "source": [
    "latbnds,lonbnds = [32,24],[360-88,360-79]\n",
    "for i in range(len(max_temps)):\n",
    "    max_temps[i] = max_temps[i].sel(lat = slice(*latbnds), lon = slice(*lonbnds))"
   ]
  },
  {
   "cell_type": "code",
   "execution_count": 27,
   "metadata": {},
   "outputs": [],
   "source": [
    "max_temps = xr.concat(max_temps,dim='time')"
   ]
  },
  {
   "cell_type": "code",
   "execution_count": 28,
   "metadata": {},
   "outputs": [],
   "source": [
    "max_temps.to_netcdf('tmax_79_98.nc')"
   ]
  },
  {
   "cell_type": "code",
   "execution_count": 29,
   "metadata": {},
   "outputs": [
    {
     "data": {
      "text/plain": [
       "<xarray.Dataset>\n",
       "Dimensions:  (lat: 16, lon: 18, time: 7305)\n",
       "Coordinates:\n",
       "  * lon      (lon) float32 272.25 272.75 273.25 273.75 ... 279.75 280.25 280.75\n",
       "  * lat      (lat) float32 31.75 31.25 30.75 30.25 ... 25.75 25.25 24.75 24.25\n",
       "  * time     (time) datetime64[ns] 1979-01-01 1979-01-02 ... 1998-12-31\n",
       "Data variables:\n",
       "    tmax     (time, lat, lon) float32 20.276962 20.511295 20.512712 ... nan nan\n",
       "Attributes:\n",
       "    Conventions:                     CF-1.0\n",
       "    version:                         V1.0\n",
       "    history:                         created 9/2016 by CAS NOAA/ESRL PSD\n",
       "    title:                           CPC GLOBAL TEMP V1.0\n",
       "    dataset_title:                   CPC GLOBAL TEMP\n",
       "    Source:                          ftp://ftp.cpc.ncep.noaa.gov/precip/wd52w...\n",
       "    References:                      https://www.esrl.noaa.gov/psd/data/gridd...\n",
       "    DODS_EXTRA.Unlimited_Dimension:  time"
      ]
     },
     "execution_count": 29,
     "metadata": {},
     "output_type": "execute_result"
    }
   ],
   "source": [
    "max_temps"
   ]
  },
  {
   "cell_type": "code",
   "execution_count": null,
   "metadata": {},
   "outputs": [],
   "source": []
  }
 ],
 "metadata": {
  "kernelspec": {
   "display_name": "Python 3",
   "language": "python",
   "name": "python3"
  },
  "language_info": {
   "codemirror_mode": {
    "name": "ipython",
    "version": 3
   },
   "file_extension": ".py",
   "mimetype": "text/x-python",
   "name": "python",
   "nbconvert_exporter": "python",
   "pygments_lexer": "ipython3",
   "version": "3.6.7"
  }
 },
 "nbformat": 4,
 "nbformat_minor": 2
}
