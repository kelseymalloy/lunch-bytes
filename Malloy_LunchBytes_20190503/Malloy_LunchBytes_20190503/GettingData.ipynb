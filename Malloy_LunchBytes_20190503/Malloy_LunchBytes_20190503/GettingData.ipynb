{
 "cells": [
  {
   "cell_type": "code",
   "execution_count": 1,
   "metadata": {},
   "outputs": [],
   "source": [
    "import xarray as xr\n",
    "import numpy as np\n",
    "import netCDF4 as nc"
   ]
  },
  {
   "cell_type": "markdown",
   "metadata": {},
   "source": [
    "#### Many of this is borrowed from Kayla Besong's GettingData_XR.ipynb notebook from previous lunch byte"
   ]
  },
  {
   "cell_type": "code",
   "execution_count": 7,
   "metadata": {},
   "outputs": [
    {
     "name": "stdout",
     "output_type": "stream",
     "text": [
      "https://www.esrl.noaa.gov/psd/thredds/dodsC/Datasets/cpc_global_temp/tmin.1999.nc\n",
      "https://www.esrl.noaa.gov/psd/thredds/dodsC/Datasets/cpc_global_temp/tmin.2000.nc\n",
      "https://www.esrl.noaa.gov/psd/thredds/dodsC/Datasets/cpc_global_temp/tmin.2001.nc\n",
      "https://www.esrl.noaa.gov/psd/thredds/dodsC/Datasets/cpc_global_temp/tmin.2002.nc\n",
      "https://www.esrl.noaa.gov/psd/thredds/dodsC/Datasets/cpc_global_temp/tmin.2003.nc\n",
      "https://www.esrl.noaa.gov/psd/thredds/dodsC/Datasets/cpc_global_temp/tmin.2004.nc\n",
      "https://www.esrl.noaa.gov/psd/thredds/dodsC/Datasets/cpc_global_temp/tmin.2005.nc\n",
      "https://www.esrl.noaa.gov/psd/thredds/dodsC/Datasets/cpc_global_temp/tmin.2006.nc\n",
      "https://www.esrl.noaa.gov/psd/thredds/dodsC/Datasets/cpc_global_temp/tmin.2007.nc\n",
      "https://www.esrl.noaa.gov/psd/thredds/dodsC/Datasets/cpc_global_temp/tmin.2008.nc\n",
      "https://www.esrl.noaa.gov/psd/thredds/dodsC/Datasets/cpc_global_temp/tmin.2009.nc\n",
      "https://www.esrl.noaa.gov/psd/thredds/dodsC/Datasets/cpc_global_temp/tmin.2010.nc\n",
      "https://www.esrl.noaa.gov/psd/thredds/dodsC/Datasets/cpc_global_temp/tmin.2011.nc\n",
      "https://www.esrl.noaa.gov/psd/thredds/dodsC/Datasets/cpc_global_temp/tmin.2012.nc\n",
      "https://www.esrl.noaa.gov/psd/thredds/dodsC/Datasets/cpc_global_temp/tmin.2013.nc\n",
      "https://www.esrl.noaa.gov/psd/thredds/dodsC/Datasets/cpc_global_temp/tmin.2014.nc\n",
      "https://www.esrl.noaa.gov/psd/thredds/dodsC/Datasets/cpc_global_temp/tmin.2015.nc\n",
      "https://www.esrl.noaa.gov/psd/thredds/dodsC/Datasets/cpc_global_temp/tmin.2016.nc\n",
      "https://www.esrl.noaa.gov/psd/thredds/dodsC/Datasets/cpc_global_temp/tmin.2017.nc\n",
      "https://www.esrl.noaa.gov/psd/thredds/dodsC/Datasets/cpc_global_temp/tmin.2018.nc\n"
     ]
    }
   ],
   "source": [
    "min_temps = []\n",
    "date_range = np.arange(1999,2018+1,1) \n",
    "\n",
    "for i in date_range:\n",
    "    url_t1 = 'https://www.esrl.noaa.gov/psd/thredds/dodsC/Datasets/cpc_global_temp/tmin.'+str(i)+'.nc' \n",
    "    print(url_t1)\n",
    "    t1 = xr.open_dataset(url_t1)\n",
    "    min_temps.append(t1)"
   ]
  },
  {
   "cell_type": "code",
   "execution_count": 8,
   "metadata": {},
   "outputs": [],
   "source": [
    "latbnds,lonbnds = [32,24],[360-88,360-79]\n",
    "for i in range(len(min_temps)):\n",
    "    min_temps[i] = min_temps[i].sel(lat = slice(*latbnds), lon = slice(*lonbnds))"
   ]
  },
  {
   "cell_type": "code",
   "execution_count": 9,
   "metadata": {},
   "outputs": [],
   "source": [
    "min_temps = xr.concat(min_temps,dim='time')"
   ]
  },
  {
   "cell_type": "code",
   "execution_count": 10,
   "metadata": {},
   "outputs": [],
   "source": [
    "min_temps.to_netcdf('tmin_99_18.nc')"
   ]
  },
  {
   "cell_type": "code",
   "execution_count": 11,
   "metadata": {},
   "outputs": [
    {
     "data": {
      "text/plain": [
       "<xarray.Dataset>\n",
       "Dimensions:  (lat: 16, lon: 18, time: 7305)\n",
       "Coordinates:\n",
       "  * lat      (lat) float32 31.75 31.25 30.75 30.25 ... 25.75 25.25 24.75 24.25\n",
       "  * lon      (lon) float32 272.25 272.75 273.25 273.75 ... 279.75 280.25 280.75\n",
       "  * time     (time) datetime64[ns] 1999-01-01 1999-01-02 ... 2018-12-31\n",
       "Data variables:\n",
       "    tmin     (time, lat, lon) float32 1.1301223 0.7896629 0.6621582 ... nan nan\n",
       "Attributes:\n",
       "    Conventions:                     CF-1.0\n",
       "    version:                         V1.0\n",
       "    history:                         created 9/2016 by CAS NOAA/ESRL PSD\n",
       "    title:                           CPC GLOBAL TEMP V1.0\n",
       "    dataset_title:                   CPC GLOBAL TEMP\n",
       "    Source:                          ftp://ftp.cpc.ncep.noaa.gov/precip/wd52w...\n",
       "    References:                      https://www.esrl.noaa.gov/psd/data/gridd...\n",
       "    DODS_EXTRA.Unlimited_Dimension:  time"
      ]
     },
     "execution_count": 11,
     "metadata": {},
     "output_type": "execute_result"
    }
   ],
   "source": [
    "min_temps"
   ]
  },
  {
   "cell_type": "code",
   "execution_count": null,
   "metadata": {},
   "outputs": [],
   "source": []
  }
 ],
 "metadata": {
  "kernelspec": {
   "display_name": "Python 3",
   "language": "python",
   "name": "python3"
  },
  "language_info": {
   "codemirror_mode": {
    "name": "ipython",
    "version": 3
   },
   "file_extension": ".py",
   "mimetype": "text/x-python",
   "name": "python",
   "nbconvert_exporter": "python",
   "pygments_lexer": "ipython3",
   "version": "3.6.7"
  }
 },
 "nbformat": 4,
 "nbformat_minor": 2
}
